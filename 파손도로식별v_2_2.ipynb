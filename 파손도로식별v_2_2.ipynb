{
  "cells": [
    {
      "cell_type": "markdown",
      "metadata": {
        "id": "view-in-github",
        "colab_type": "text"
      },
      "source": [
        "<a href=\"https://colab.research.google.com/github/JungYoonJae04/IWantToGoToIST/blob/main/%ED%8C%8C%EC%86%90%EB%8F%84%EB%A1%9C%EC%8B%9D%EB%B3%84v_2_2.ipynb\" target=\"_parent\"><img src=\"https://colab.research.google.com/assets/colab-badge.svg\" alt=\"Open In Colab\"/></a>"
      ]
    },
    {
      "cell_type": "code",
      "execution_count": null,
      "metadata": {
        "id": "n0rz_XlsjMrX"
      },
      "outputs": [],
      "source": [
        "from google.colab import drive\n",
        "drive.mount('/content/gdrive')"
      ]
    },
    {
      "cell_type": "code",
      "execution_count": null,
      "metadata": {
        "id": "xi57sTb_fP7o"
      },
      "outputs": [],
      "source": [
        "import os\n",
        "import shutil\n",
        "from google.colab import files\n",
        "from sklearn.model_selection import train_test_split\n",
        "from glob import glob\n",
        "from IPython.display import Image\n",
        "os.mkdir('dataset')\n",
        "!curl -L \"https://public.roboflow.com/ds/q0TdDzkNWG?key=ly4HzlxQxK\" > roboflow.zip; unzip roboflow.zip; rm roboflow.zip\n",
        "%cd /content\n",
        "!git clone https://github.com/ultralytics/yolov5.git\n",
        "%cd /content/yolov5/\n",
        "!pip install -r requirements.txt\n",
        "shutil.move(\"/content/test\", \"/content/dataset\") \n",
        "shutil.move(\"/content/train\", \"/content/dataset\") \n",
        "shutil.move(\"/content/valid\", \"/content/dataset\") \n",
        "shutil.move(\"/content/README.dataset.txt\", \"/content/dataset\") \n",
        "shutil.move(\"/content/README.roboflow.txt\", \"/content/dataset\") \n",
        "shutil.move(\"/content/data.yaml\", \"/content/dataset\") \n",
        "%cat /content/dataset/data.yaml\n",
        "%cd /\n",
        "img_list = glob('/content/dataset/train/images/*.jpg')\n",
        "print(len(img_list))\n",
        "train_img_list, val_img_list = train_test_split(img_list, test_size=0.2, random_state=2000)\n",
        "print(len(train_img_list), len(val_img_list))\n",
        "with open('/content/dataset/train.txt', 'w') as f:\n",
        "  f.write('\\n'.join(train_img_list) + '\\n')\n",
        "with open('/content/dataset/val.txt', 'w') as f:\n",
        "  f.write('\\n'.join(val_img_list) + '\\n')\n",
        "  import yaml\n",
        "with open('/content/dataset/data.yaml', 'r') as f:\n",
        "  data = yaml.safe_load(f)\n",
        "print(data)\n",
        "data['train'] = '/content/dataset/train.txt'\n",
        "data['val'] = '/content/dataset/val.txt'\n",
        "with open('/content/dataset/data.yaml', 'w') as f:\n",
        "  yaml.dump(data, f)\n",
        "print(data)\n",
        "%cd /content/yolov5/\n",
        "!python train.py --img 416 --batch 16 --epochs 50 --data /content/dataset/data.yaml --cfg ./models/yolov5s.yaml --weights yolov5s.pt --name pothole_yolov5s_results\n",
        "%load_ext tensorboard\n",
        "%tensorboard --logdir /content/yolov5/runs/"
      ]
    },
    {
      "cell_type": "code",
      "execution_count": null,
      "metadata": {
        "id": "q85l1b_SfUKX"
      },
      "outputs": [],
      "source": [
        "directory_path = '/content/gdrive/MyDrive/Images'\n",
        "number = len(os.listdir(directory_path)) \n",
        "print(number)\n",
        "road_img = glob('/content/gdrive/MyDrive/Images/*.jpg')\n",
        "a = 0\n",
        "while (a < number-1):\n",
        "  img_path = road_img[a]\n",
        "\n",
        "  !python detect.py --weights /content/yolov5/runs/train/pothole_yolov5s_results/weights/best.pt --img 416 --conf 0.5 --source \"{img_path}\"\n",
        "\n",
        "  Image(os.path.join('/content/yolov5/runs/detect', os.path.basename(img_path)))\n",
        "\n",
        "  a = a + 1\n",
        "files.download('/content/yolov5/runs/detect')"
      ]
    },
    {
      "cell_type": "code",
      "execution_count": null,
      "metadata": {
        "id": "KtqA-mD12lKW"
      },
      "outputs": [],
      "source": [
        "  img_path = road_img[11]\n",
        "\n",
        "  !python detect.py --weights /content/yolov5/runs/train/pothole_yolov5s_results/weights/best.pt --img 416 --conf 0.5 --source \"{img_path}\"\n",
        "\n",
        "  Image(os.path.join('/content/yolov5/runs/detect', os.path.basename(img_path)))"
      ]
    }
  ],
  "metadata": {
    "accelerator": "GPU",
    "colab": {
      "provenance": [],
      "authorship_tag": "ABX9TyNkJ1kQWyWnI6/uLghnXsOj",
      "include_colab_link": true
    },
    "kernelspec": {
      "display_name": "Python 3",
      "name": "python3"
    },
    "language_info": {
      "name": "python"
    }
  },
  "nbformat": 4,
  "nbformat_minor": 0
}